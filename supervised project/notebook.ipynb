{
 "cells": [
  {
   "cell_type": "markdown",
   "id": "d3d001b0-2e2f-4b58-8442-99520bad831f",
   "metadata": {},
   "source": [
    "# Sowing Success: How Machine Learning Helps Farmers Select the Best Crops\n",
    "\n",
    "![Farmer in a field](farmer_in_a_field.jpg)\n",
    "\n",
    "Measuring essential soil metrics such as nitrogen, phosphorous, potassium levels, and pH value is an important aspect of assessing soil condition. However, it can be an expensive and time-consuming process, which can cause farmers to prioritize which metrics to measure based on their budget constraints.\n",
    "\n",
    "Farmers have various options when it comes to deciding which crop to plant each season. Their primary objective is to maximize the yield of their crops, taking into account different factors. One crucial factor that affects crop growth is the condition of the soil in the field, which can be assessed by measuring basic elements such as nitrogen and potassium levels. Each crop has an ideal soil condition that ensures optimal growth and maximum yield.\n",
    "\n",
    "A farmer reached out to you as a machine learning expert for assistance in selecting the best crop for his field. They've provided you with a dataset called `soil_measures.csv`, which contains:\n",
    "\n",
    "- `\"N\"`: Nitrogen content ratio in the soil\n",
    "- `\"P\"`: Phosphorous content ratio in the soil\n",
    "- `\"K\"`: Potassium content ratio in the soil\n",
    "- `\"pH\"` value of the soil\n",
    "- `\"crop\"`: categorical values that contain various crops (target variable).\n",
    "\n",
    "Each row in this dataset represents various measures of the soil in a particular field. Based on these measurements, the crop specified in the `\"crop\"` column is the optimal choice for that field.  \n",
    "\n",
    "In this project, you will build multi-class classification models to predict the type of `\"crop\"` and identify the single most importance feature for predictive performance."
   ]
  },
  {
   "cell_type": "code",
   "execution_count": 2,
   "id": "d0eb4f16-5a99-460d-a5ba-706b7ef0bbe7",
   "metadata": {
    "executionCancelledAt": null,
    "executionTime": 5677,
    "id": "bA5ajAmk7XH6",
    "lastExecutedAt": 1740502947644,
    "lastExecutedByKernel": "13f97b4d-1564-4f0d-96eb-5aaab5f4884a",
    "lastScheduledRunId": null,
    "lastSuccessfullyExecutedCode": "# All required libraries are imported here for you.\nimport pandas as pd\nfrom sklearn.linear_model import LogisticRegression\nfrom sklearn.model_selection import train_test_split\nfrom sklearn import metrics\n\n# Load the dataset\ncrops = pd.read_csv(\"soil_measures.csv\")\n\n# Write your code here\n# Check for missing values\ncrops.isna().sum()\n\n# Check how many crops we have, i.e., multi-class target\ncrops.crop.unique()\n\n# Split into feature and target sets\nX = crops.drop(columns=\"crop\")\ny = crops[\"crop\"]\n\n# Split the data into training and testing sets\nX_train, X_test, y_train, y_test = train_test_split(\n    X,\n    y,\n    test_size=0.2,\n    random_state=42\n)\n\n# Create a dictionary to store the model performance for each feature\nfeature_performance = {}\n\n# Train a logistic regression model for each feature\nfor feature in [\"N\", \"P\", \"K\", \"ph\"]:\n    log_reg = LogisticRegression(multi_class=\"multinomial\")\n    log_reg.fit(X_train[[feature]], y_train)\n    y_pred = log_reg.predict(X_test[[feature]])\n    \n    # Calculate F1 score, the harmonic mean of precision and recall\n    # Could also use balanced_accuracy_score\n    f1 = metrics.f1_score(y_test, y_pred, average=\"weighted\")\n    \n    # Add feature-f1 score pairs to the dictionary\n    feature_performance[feature] = f1\n    print(f\"F1-score for {feature}: {f1}\")\n\n# K produced the best F1 score\n# Store in best_predictive_feature dictionary\nbest_predictive_feature = {\"K\": feature_performance[\"K\"]}\nbest_predictive_feature",
    "outputsMetadata": {
     "0": {
      "height": 0,
      "type": "stream"
     }
    }
   },
   "outputs": [
    {
     "name": "stdout",
     "output_type": "stream",
     "text": [
      "F1-score for N: 0.09149868209906838\n",
      "F1-score for P: 0.14761942909728204\n",
      "F1-score for K: 0.23896974566001802\n",
      "F1-score for ph: 0.04532731061152114\n"
     ]
    },
    {
     "data": {
      "text/plain": [
       "{'K': 0.23896974566001802}"
      ]
     },
     "execution_count": 2,
     "metadata": {},
     "output_type": "execute_result"
    }
   ],
   "source": [
    "# All required libraries are imported here for you.\n",
    "import pandas as pd\n",
    "from sklearn.linear_model import LogisticRegression\n",
    "from sklearn.model_selection import train_test_split\n",
    "from sklearn import metrics\n",
    "\n",
    "# Load the dataset\n",
    "crops = pd.read_csv(\"soil_measures.csv\")\n",
    "\n",
    "# Write your code here\n",
    "# Check for missing values\n",
    "crops.isna().sum()\n",
    "\n",
    "# Check how many crops we have, i.e., multi-class target\n",
    "crops.crop.unique()\n",
    "\n",
    "# Split into feature and target sets\n",
    "X = crops.drop(columns=\"crop\")\n",
    "y = crops[\"crop\"]\n",
    "\n",
    "# Split the data into training and testing sets\n",
    "X_train, X_test, y_train, y_test = train_test_split(\n",
    "    X,\n",
    "    y,\n",
    "    test_size=0.2,\n",
    "    random_state=42\n",
    ")\n",
    "\n",
    "# Create a dictionary to store the model performance for each feature\n",
    "feature_performance = {}\n",
    "\n",
    "# Train a logistic regression model for each feature\n",
    "for feature in [\"N\", \"P\", \"K\", \"ph\"]:\n",
    "    log_reg = LogisticRegression(multi_class=\"multinomial\")\n",
    "    log_reg.fit(X_train[[feature]], y_train)\n",
    "    y_pred = log_reg.predict(X_test[[feature]])\n",
    "    \n",
    "    # Calculate F1 score, the harmonic mean of precision and recall\n",
    "    # Could also use balanced_accuracy_score\n",
    "    f1 = metrics.f1_score(y_test, y_pred, average=\"weighted\")\n",
    "    \n",
    "    # Add feature-f1 score pairs to the dictionary\n",
    "    feature_performance[feature] = f1\n",
    "    print(f\"F1-score for {feature}: {f1}\")\n",
    "\n",
    "# K produced the best F1 score\n",
    "# Store in best_predictive_feature dictionary\n",
    "best_predictive_feature = {\"K\": feature_performance[\"K\"]}\n",
    "best_predictive_feature"
   ]
  },
  {
   "cell_type": "code",
   "execution_count": 1,
   "id": "e817bc27-500e-4735-adbb-19919cf9b0ac",
   "metadata": {},
   "outputs": [],
   "source": [
    "# All required libraries are imported here for you.\n",
    "import pandas as pd\n",
    "from sklearn.linear_model import LogisticRegression\n",
    "from sklearn.model_selection import train_test_split\n",
    "from sklearn import metrics"
   ]
  },
  {
   "cell_type": "code",
   "execution_count": 3,
   "id": "8f97134c-4098-4646-a639-9f22973108e9",
   "metadata": {},
   "outputs": [],
   "source": [
    "# Load the dataset\n",
    "crops = pd.read_csv(\"soil_measures.csv\")"
   ]
  },
  {
   "cell_type": "code",
   "execution_count": 5,
   "id": "b3211a0a-c5f6-46ce-a394-0297fad9fe5e",
   "metadata": {},
   "outputs": [
    {
     "data": {
      "text/plain": [
       "N       0\n",
       "P       0\n",
       "K       0\n",
       "ph      0\n",
       "crop    0\n",
       "dtype: int64"
      ]
     },
     "execution_count": 5,
     "metadata": {},
     "output_type": "execute_result"
    }
   ],
   "source": [
    "# Check for missing values\n",
    "crops.isna().sum()"
   ]
  },
  {
   "cell_type": "code",
   "execution_count": 7,
   "id": "c9c457d1-7c86-4f62-be6a-829e15e43aa6",
   "metadata": {},
   "outputs": [
    {
     "data": {
      "text/plain": [
       "array(['rice', 'maize', 'chickpea', 'kidneybeans', 'pigeonpeas',\n",
       "       'mothbeans', 'mungbean', 'blackgram', 'lentil', 'pomegranate',\n",
       "       'banana', 'mango', 'grapes', 'watermelon', 'muskmelon', 'apple',\n",
       "       'orange', 'papaya', 'coconut', 'cotton', 'jute', 'coffee'],\n",
       "      dtype=object)"
      ]
     },
     "execution_count": 7,
     "metadata": {},
     "output_type": "execute_result"
    }
   ],
   "source": [
    "# Check how many crops we have, i.e., multi-class target\n",
    "crops.crop.unique()"
   ]
  },
  {
   "cell_type": "code",
   "execution_count": 9,
   "id": "1005c76c-2382-40e4-83b3-25ce61099688",
   "metadata": {},
   "outputs": [],
   "source": [
    "# Split into feature and target sets\n",
    "X = crops.drop(columns=\"crop\")\n",
    "y = crops[\"crop\"]"
   ]
  },
  {
   "cell_type": "code",
   "execution_count": 11,
   "id": "4746c53c-f17f-4123-997d-757a14e4dcbb",
   "metadata": {},
   "outputs": [],
   "source": [
    "# Split the data into training and testing sets\n",
    "X_train, X_test, y_train, y_test = train_test_split(\n",
    "    X,\n",
    "    y,\n",
    "    test_size=0.2,\n",
    "    random_state=42\n",
    ")"
   ]
  },
  {
   "cell_type": "code",
   "execution_count": 13,
   "id": "9647de8c-e543-43bb-a88a-59e5357b0b82",
   "metadata": {},
   "outputs": [],
   "source": [
    "# Create a dictionary to store the model performance for each feature\n",
    "feature_performance = {}"
   ]
  },
  {
   "cell_type": "code",
   "execution_count": 15,
   "id": "3c636527-dd90-4dc1-89d2-53eb5462e3a1",
   "metadata": {},
   "outputs": [
    {
     "name": "stderr",
     "output_type": "stream",
     "text": [
      "/opt/anaconda3/lib/python3.12/site-packages/sklearn/linear_model/_logistic.py:1247: FutureWarning: 'multi_class' was deprecated in version 1.5 and will be removed in 1.7. From then on, it will always use 'multinomial'. Leave it to its default value to avoid this warning.\n",
      "  warnings.warn(\n",
      "/opt/anaconda3/lib/python3.12/site-packages/sklearn/linear_model/_logistic.py:469: ConvergenceWarning: lbfgs failed to converge (status=1):\n",
      "STOP: TOTAL NO. of ITERATIONS REACHED LIMIT.\n",
      "\n",
      "Increase the number of iterations (max_iter) or scale the data as shown in:\n",
      "    https://scikit-learn.org/stable/modules/preprocessing.html\n",
      "Please also refer to the documentation for alternative solver options:\n",
      "    https://scikit-learn.org/stable/modules/linear_model.html#logistic-regression\n",
      "  n_iter_i = _check_optimize_result(\n",
      "/opt/anaconda3/lib/python3.12/site-packages/sklearn/linear_model/_logistic.py:1247: FutureWarning: 'multi_class' was deprecated in version 1.5 and will be removed in 1.7. From then on, it will always use 'multinomial'. Leave it to its default value to avoid this warning.\n",
      "  warnings.warn(\n",
      "/opt/anaconda3/lib/python3.12/site-packages/sklearn/linear_model/_logistic.py:469: ConvergenceWarning: lbfgs failed to converge (status=1):\n",
      "STOP: TOTAL NO. of ITERATIONS REACHED LIMIT.\n",
      "\n",
      "Increase the number of iterations (max_iter) or scale the data as shown in:\n",
      "    https://scikit-learn.org/stable/modules/preprocessing.html\n",
      "Please also refer to the documentation for alternative solver options:\n",
      "    https://scikit-learn.org/stable/modules/linear_model.html#logistic-regression\n",
      "  n_iter_i = _check_optimize_result(\n",
      "/opt/anaconda3/lib/python3.12/site-packages/sklearn/linear_model/_logistic.py:1247: FutureWarning: 'multi_class' was deprecated in version 1.5 and will be removed in 1.7. From then on, it will always use 'multinomial'. Leave it to its default value to avoid this warning.\n",
      "  warnings.warn(\n"
     ]
    },
    {
     "name": "stdout",
     "output_type": "stream",
     "text": [
      "F1-score for N: 0.09149868209906838\n",
      "F1-score for P: 0.1476194290972821\n",
      "F1-score for K: 0.23896974566001802\n",
      "F1-score for ph: 0.0458225366614312\n"
     ]
    },
    {
     "name": "stderr",
     "output_type": "stream",
     "text": [
      "/opt/anaconda3/lib/python3.12/site-packages/sklearn/linear_model/_logistic.py:469: ConvergenceWarning: lbfgs failed to converge (status=1):\n",
      "STOP: TOTAL NO. of ITERATIONS REACHED LIMIT.\n",
      "\n",
      "Increase the number of iterations (max_iter) or scale the data as shown in:\n",
      "    https://scikit-learn.org/stable/modules/preprocessing.html\n",
      "Please also refer to the documentation for alternative solver options:\n",
      "    https://scikit-learn.org/stable/modules/linear_model.html#logistic-regression\n",
      "  n_iter_i = _check_optimize_result(\n",
      "/opt/anaconda3/lib/python3.12/site-packages/sklearn/linear_model/_logistic.py:1247: FutureWarning: 'multi_class' was deprecated in version 1.5 and will be removed in 1.7. From then on, it will always use 'multinomial'. Leave it to its default value to avoid this warning.\n",
      "  warnings.warn(\n"
     ]
    }
   ],
   "source": [
    "# Train a logistic regression model for each feature\n",
    "for feature in [\"N\", \"P\", \"K\", \"ph\"]:\n",
    "    log_reg = LogisticRegression(multi_class=\"multinomial\")\n",
    "    log_reg.fit(X_train[[feature]], y_train)\n",
    "    y_pred = log_reg.predict(X_test[[feature]])\n",
    "    \n",
    "    # Calculate F1 score, the harmonic mean of precision and recall\n",
    "    # Could also use balanced_accuracy_score\n",
    "    f1 = metrics.f1_score(y_test, y_pred, average=\"weighted\")\n",
    "    \n",
    "    # Add feature-f1 score pairs to the dictionary\n",
    "    feature_performance[feature] = f1\n",
    "    print(f\"F1-score for {feature}: {f1}\")"
   ]
  },
  {
   "cell_type": "code",
   "execution_count": null,
   "id": "f500879c-03bf-488c-8d87-a157acecfb36",
   "metadata": {},
   "outputs": [],
   "source": []
  }
 ],
 "metadata": {
  "colab": {
   "name": "Welcome to DataCamp Workspaces.ipynb",
   "provenance": []
  },
  "kernelspec": {
   "display_name": "Python [conda env:base] *",
   "language": "python",
   "name": "conda-base-py"
  },
  "language_info": {
   "codemirror_mode": {
    "name": "ipython",
    "version": 3
   },
   "file_extension": ".py",
   "mimetype": "text/x-python",
   "name": "python",
   "nbconvert_exporter": "python",
   "pygments_lexer": "ipython3",
   "version": "3.12.7"
  }
 },
 "nbformat": 4,
 "nbformat_minor": 5
}
